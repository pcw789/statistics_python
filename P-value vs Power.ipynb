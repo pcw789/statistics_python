{
 "cells": [
  {
   "cell_type": "markdown",
   "metadata": {},
   "source": [
    "# P-value Distribution By Power"
   ]
  },
  {
   "cell_type": "code",
   "execution_count": 1,
   "metadata": {},
   "outputs": [],
   "source": [
    "import numpy as np\n",
    "from scipy import stats\n",
    "import statsmodels.stats.power as smp\n",
    "import matplotlib.pyplot as plt"
   ]
  },
  {
   "cell_type": "code",
   "execution_count": 2,
   "metadata": {},
   "outputs": [],
   "source": [
    "sim_n = 100000     # 시뮬레이션 횟수\n",
    "m = 106            # 샘플 평균\n",
    "n = 26             # 샘플 수\n",
    "sd = 15            # 샘플 표준편차"
   ]
  },
  {
   "cell_type": "code",
   "execution_count": 3,
   "metadata": {},
   "outputs": [],
   "source": [
    "p = []\n",
    "bars = 20"
   ]
  },
  {
   "cell_type": "code",
   "execution_count": 4,
   "metadata": {},
   "outputs": [],
   "source": [
    "# 귀무가설: 샘플의 평균이 100이다.\n",
    "# 대립가설: 샘플의 평균이 100이 아니다.\n",
    "# N(m,sd)의 샘플 데이터를 100과 ttest를 sim_n번 만큼 반복하여 p-value를 p=[]에 저장\n",
    "for i in range(sim_n):\n",
    "    x = np.random.normal(m,sd,n)\n",
    "    z = stats.ttest_1samp(x, 100)[1]\n",
    "    p.append(z)"
   ]
  },
  {
   "cell_type": "code",
   "execution_count": 5,
   "metadata": {},
   "outputs": [
    {
     "data": {
      "text/plain": [
       "0.500464570207731"
      ]
     },
     "execution_count": 5,
     "metadata": {},
     "output_type": "execute_result"
    }
   ],
   "source": [
    "# 파워 계산\n",
    "# alpha = 0.05\n",
    "power = smp.TTestPower.power(smp.TTestPower.power, effect_size=((m-100)/sd), nobs=n, alpha=0.05, alternative='two-sided')\n",
    "power"
   ]
  },
  {
   "cell_type": "code",
   "execution_count": 6,
   "metadata": {},
   "outputs": [
    {
     "data": {
      "text/plain": [
       "(0.0, 100000.0)"
      ]
     },
     "execution_count": 6,
     "metadata": {},
     "output_type": "execute_result"
    },
    {
     "data": {
      "image/png": "[encoded data removed]",
      "text/plain": [
       "<Figure size 432x288 with 1 Axes>"
      ]
     },
     "metadata": {
      "needs_background": "light"
     },
     "output_type": "display_data"
    }
   ],
   "source": [
    "# plotting\n",
    "plt.hist(p, bins=bars )\n",
    "plt.title('P-values Distribution with {0}% Power'.format(round(power,3)*100))\n",
    "plt.xlim(0,1)\n",
    "plt.ylim(0,sim_n)"
   ]
  },
  {
   "cell_type": "markdown",
   "metadata": {},
   "source": [
    "50% 파워를 가지는 테스트에서 0.05 이하의 값을 가지는 p-value가 약 50%(약 50000번/시뮬레이션횟수(100000번)) 측정되었다.   \n"
   ]
  },
  {
   "cell_type": "code",
   "execution_count": 7,
   "metadata": {},
   "outputs": [],
   "source": [
    "sim_n2 = 100000     # 시뮬레이션 횟수\n",
    "m2 = 108            # 샘플 평균\n",
    "n2 = 51             # 샘플 수\n",
    "sd2 = 15            # 샘플 표준편차"
   ]
  },
  {
   "cell_type": "code",
   "execution_count": 8,
   "metadata": {},
   "outputs": [],
   "source": [
    "p2 = []\n",
    "bars2 = 20"
   ]
  },
  {
   "cell_type": "code",
   "execution_count": 9,
   "metadata": {},
   "outputs": [],
   "source": [
    "for i in range(sim_n2):\n",
    "    x = np.random.normal(m2,sd2,n2)\n",
    "    z = stats.ttest_1samp(x, 100)[1]\n",
    "    p2.append(z)"
   ]
  },
  {
   "cell_type": "code",
   "execution_count": 11,
   "metadata": {},
   "outputs": [
    {
     "data": {
      "text/plain": [
       "0.9620240135874724"
      ]
     },
     "execution_count": 11,
     "metadata": {},
     "output_type": "execute_result"
    }
   ],
   "source": [
    "power2 = smp.TTestPower.power(smp.TTestPower.power, effect_size=((m2-100)/sd2), nobs=n2, alpha=0.05, alternative='two-sided')\n",
    "power2"
   ]
  },
  {
   "cell_type": "code",
   "execution_count": 12,
   "metadata": {},
   "outputs": [
    {
     "data": {
      "text/plain": [
       "(0.0, 100000.0)"
      ]
     },
     "execution_count": 12,
     "metadata": {},
     "output_type": "execute_result"
    },
    {
     "data": {
      "image/png": "[encoded data removed]",
      "text/plain": [
       "<Figure size 432x288 with 1 Axes>"
      ]
     },
     "metadata": {
      "needs_background": "light"
     },
     "output_type": "display_data"
    }
   ],
   "source": [
    "plt.hist(p2, bins=bars )\n",
    "plt.title('P-values Distribution with {0}% Power'.format(round(power2,3)*100))\n",
    "plt.xlim(0,1)\n",
    "plt.ylim(0,sim_n2)"
   ]
  },
  {
   "cell_type": "code",
   "execution_count": null,
   "metadata": {},
   "outputs": [],
   "source": []
  }
 ],
 "metadata": {
  "kernelspec": {
   "display_name": "Python 3",
   "language": "python",
   "name": "python3"
  },
  "language_info": {
   "codemirror_mode": {
    "name": "ipython",
    "version": 3
   },
   "file_extension": ".py",
   "mimetype": "text/x-python",
   "name": "python",
   "nbconvert_exporter": "python",
   "pygments_lexer": "ipython3",
   "version": "3.8.5"
  }
 },
 "nbformat": 4,
 "nbformat_minor": 4
}
